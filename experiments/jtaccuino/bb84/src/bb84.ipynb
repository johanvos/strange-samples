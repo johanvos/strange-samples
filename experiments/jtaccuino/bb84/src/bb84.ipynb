{
    "cells": [
        {
            "cell_type": "code",
            "execution_count": 0,
            "id": "503eea86-4109-46e9-8974-7c4fc7b023ff",
            "metadata": {
            },
            "outputs": [
            ],
            "source": "addDependency(\"org.redfx:strangefx:0.1.4\");"
        },
        {
            "cell_type": "code",
            "execution_count": 0,
            "id": "71627e2b-2bb6-4946-9d3e-e258510f134d",
            "metadata": {
            },
            "outputs": [
            ],
            "source": "import org.redfx.strange.*;\nimport org.redfx.strange.gate.*;\nimport org.redfx.strange.local.*;\nimport org.redfx.strangefx.render.*;\nimport java.util.Random;int SIZE = 8;\n        "
        },
        {
            "cell_type": "code",
            "execution_count": 0,
            "id": "a6e037ff-5c27-46c8-8030-65403f0a8539",
            "metadata": {
            },
            "outputs": [
            ],
            "source": "Random random = new Random();\n\nboolean[] aliceBits = new boolean[SIZE]; // random bits chosen by Alice\nboolean[] bobBits = new boolean[SIZE]; // bits measured by Bob\nboolean[] aliceBase = new boolean[SIZE]; // random bases chosen by Alice\nboolean[] bobBase = new boolean[SIZE]; // random bases chosen by Bob\n\nQuantumExecutionEnvironment simulator = new SimpleQuantumExecutionEnvironment();\nProgram program = new Program(SIZE);\nStep prepareStep = new Step();\nStep superPositionStep = new Step();\nStep superPositionStep2 = new Step();\nStep measureStep = new Step();\n"
        },
        {
            "cell_type": "code",
            "execution_count": 0,
            "id": "9e2efb96-30ef-499e-b3d4-04c0e5132336",
            "metadata": {
            },
            "outputs": [
            ],
            "source": "for (int i = 0; i < SIZE; i++) {\n    aliceBits[i] = random.nextBoolean();\n    // if Alice's bit is 1, apply a X gate to the |0> state\n    if (aliceBits[i]) prepareStep.addGate(new X(i));\n    aliceBase[i] = random.nextBoolean();\n    // if Alice's base for this bit is 1, apply a H gate\n    if (aliceBase[i]) superPositionStep.addGate(new Hadamard(i));\n    bobBase[i] = random.nextBoolean();\n    // if Bob decides to measure in base 1, apply a H gate\n    if (bobBase[i]) superPositionStep2.addGate(new Hadamard(i));\n    // Finally, Bob measures the result\n    measureStep.addGate(new Measurement(i));\n}       \n\nprogram.addStep(prepareStep);\nprogram.addStep(superPositionStep);\nprogram.addStep(superPositionStep2);\nprogram.addStep(measureStep);\n\nResult result = simulator.runProgram(program);\nQubit[] qubit = result.getQubits();\n\nint[] measurement = new int[SIZE];\nStringBuffer key = new StringBuffer();\nfor (int i = 0; i < SIZE; i++) {\n    measurement[i] = qubit[i].measure();\n    bobBits[i] = measurement[i] == 1;\n    if (aliceBase[i] != bobBase[i]) {\n        // If the random bases chosen by Alice and Bob for this bit are different, ignore values\n        System.err.println(\"Different bases used, ignore values \"+aliceBits[i]+\" and \"+ bobBits[i]);\n    } else {\n        // Alice and Bob picked the same bases. The inital value from Alice matches the measurement from Bob.\n        // this bit now becomes part of the secret key\n        System.err.println(\"Same bases used. Alice sent \" + (aliceBits[i] ? \"1\" : \"0\") + \" and Bob received \" + (bobBits[i] ? \"1\" : \"0\"));\n        key.append(aliceBits[i] ? \"1\" : \"0\"); \n    }       \n}  "
        },
        {
            "cell_type": "code",
            "execution_count": 0,
            "id": "c871bbfd-f361-471a-b8bb-9d3c85617f18",
            "metadata": {
            },
            "outputs": [
            ],
            "source": "var board = Renderer.getRenderGroup(program);\nboard.getStylesheets().add(Renderer.class.getResource(\"/styles.css\").toExternalForm());\ndisplay(board);"
        }
    ],
    "metadata": {
        "language_info": {
            "name": "Java",
            "version": "23"
        },
        "kernel_info": {
            "name": "JTaccuino",
            "version": "0.1"
        }
    },
    "nbformat": 4,
    "nbformat_minor": 5
}